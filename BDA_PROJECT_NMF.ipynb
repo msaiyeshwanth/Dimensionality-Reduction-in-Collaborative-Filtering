{
  "nbformat": 4,
  "nbformat_minor": 0,
  "metadata": {
    "colab": {
      "provenance": []
    },
    "kernelspec": {
      "name": "python3",
      "display_name": "Python 3"
    }
  },
  "cells": [
    {
      "cell_type": "code",
      "metadata": {
        "id": "9SqlYy2MJO6e",
        "colab": {
          "base_uri": "https://localhost:8080/"
        },
        "outputId": "eecbdf45-e7f2-4c73-9fe6-724cb72b6b15"
      },
      "source": [
        "from io import BytesIO\n",
        "from zipfile import ZipFile\n",
        "from urllib.request import urlopen\n",
        "r=urlopen('http://files.grouplens.org/datasets/movielens/ml-1m.zip')\n",
        "zipfile = ZipFile(BytesIO(r.read()))\n",
        "zipfile.namelist()"
      ],
      "execution_count": null,
      "outputs": [
        {
          "output_type": "execute_result",
          "data": {
            "text/plain": [
              "['ml-1m/',\n",
              " 'ml-1m/movies.dat',\n",
              " 'ml-1m/ratings.dat',\n",
              " 'ml-1m/README',\n",
              " 'ml-1m/users.dat']"
            ]
          },
          "metadata": {
            "tags": []
          },
          "execution_count": 1
        }
      ]
    },
    {
      "cell_type": "code",
      "metadata": {
        "colab": {
          "base_uri": "https://localhost:8080/",
          "height": 258
        },
        "id": "IJJW4hLuoj5k",
        "outputId": "5a9a8746-a5ed-4825-f3c0-7a8fc3840202"
      },
      "source": [
        "import pandas as pd\n",
        "import numpy as np\n",
        "rating_cols=['user_id','movie_id','rating','unix_timestamp']\n",
        "ratings_df = pd.read_csv(zipfile.open('ml-1m/ratings.dat'),sep='::',names=rating_cols)\n",
        "ratings_df.head()"
      ],
      "execution_count": null,
      "outputs": [
        {
          "output_type": "stream",
          "text": [
            "/usr/local/lib/python3.6/dist-packages/ipykernel_launcher.py:4: ParserWarning: Falling back to the 'python' engine because the 'c' engine does not support regex separators (separators > 1 char and different from '\\s+' are interpreted as regex); you can avoid this warning by specifying engine='python'.\n",
            "  after removing the cwd from sys.path.\n"
          ],
          "name": "stderr"
        },
        {
          "output_type": "execute_result",
          "data": {
            "text/html": [
              "<div>\n",
              "<style scoped>\n",
              "    .dataframe tbody tr th:only-of-type {\n",
              "        vertical-align: middle;\n",
              "    }\n",
              "\n",
              "    .dataframe tbody tr th {\n",
              "        vertical-align: top;\n",
              "    }\n",
              "\n",
              "    .dataframe thead th {\n",
              "        text-align: right;\n",
              "    }\n",
              "</style>\n",
              "<table border=\"1\" class=\"dataframe\">\n",
              "  <thead>\n",
              "    <tr style=\"text-align: right;\">\n",
              "      <th></th>\n",
              "      <th>user_id</th>\n",
              "      <th>movie_id</th>\n",
              "      <th>rating</th>\n",
              "      <th>unix_timestamp</th>\n",
              "    </tr>\n",
              "  </thead>\n",
              "  <tbody>\n",
              "    <tr>\n",
              "      <th>0</th>\n",
              "      <td>1</td>\n",
              "      <td>1193</td>\n",
              "      <td>5</td>\n",
              "      <td>978300760</td>\n",
              "    </tr>\n",
              "    <tr>\n",
              "      <th>1</th>\n",
              "      <td>1</td>\n",
              "      <td>661</td>\n",
              "      <td>3</td>\n",
              "      <td>978302109</td>\n",
              "    </tr>\n",
              "    <tr>\n",
              "      <th>2</th>\n",
              "      <td>1</td>\n",
              "      <td>914</td>\n",
              "      <td>3</td>\n",
              "      <td>978301968</td>\n",
              "    </tr>\n",
              "    <tr>\n",
              "      <th>3</th>\n",
              "      <td>1</td>\n",
              "      <td>3408</td>\n",
              "      <td>4</td>\n",
              "      <td>978300275</td>\n",
              "    </tr>\n",
              "    <tr>\n",
              "      <th>4</th>\n",
              "      <td>1</td>\n",
              "      <td>2355</td>\n",
              "      <td>5</td>\n",
              "      <td>978824291</td>\n",
              "    </tr>\n",
              "  </tbody>\n",
              "</table>\n",
              "</div>"
            ],
            "text/plain": [
              "   user_id  movie_id  rating  unix_timestamp\n",
              "0        1      1193       5       978300760\n",
              "1        1       661       3       978302109\n",
              "2        1       914       3       978301968\n",
              "3        1      3408       4       978300275\n",
              "4        1      2355       5       978824291"
            ]
          },
          "metadata": {
            "tags": []
          },
          "execution_count": 2
        }
      ]
    },
    {
      "cell_type": "code",
      "metadata": {
        "colab": {
          "base_uri": "https://localhost:8080/"
        },
        "id": "zOEiU6I2pqZ1",
        "outputId": "08f04915-541f-4c75-ccf5-62cce4a5c09c"
      },
      "source": [
        "ratings_df.shape"
      ],
      "execution_count": null,
      "outputs": [
        {
          "output_type": "execute_result",
          "data": {
            "text/plain": [
              "(1000209, 4)"
            ]
          },
          "metadata": {
            "tags": []
          },
          "execution_count": 3
        }
      ]
    },
    {
      "cell_type": "code",
      "metadata": {
        "colab": {
          "base_uri": "https://localhost:8080/",
          "height": 258
        },
        "id": "mlagB95mpH19",
        "outputId": "1cc29796-d897-4471-a90d-df4b25316f87"
      },
      "source": [
        "movie_cols = ['movie_id', 'title', 'genre']\n",
        "movies_df = pd.read_csv(zipfile.open('ml-1m/movies.dat'),sep='::',names=movie_cols,usecols=range(5),encoding='latin-1')\n",
        "movies_df.head()"
      ],
      "execution_count": null,
      "outputs": [
        {
          "output_type": "stream",
          "text": [
            "/usr/local/lib/python3.6/dist-packages/ipykernel_launcher.py:2: ParserWarning: Falling back to the 'python' engine because the 'c' engine does not support regex separators (separators > 1 char and different from '\\s+' are interpreted as regex); you can avoid this warning by specifying engine='python'.\n",
            "  \n"
          ],
          "name": "stderr"
        },
        {
          "output_type": "execute_result",
          "data": {
            "text/html": [
              "<div>\n",
              "<style scoped>\n",
              "    .dataframe tbody tr th:only-of-type {\n",
              "        vertical-align: middle;\n",
              "    }\n",
              "\n",
              "    .dataframe tbody tr th {\n",
              "        vertical-align: top;\n",
              "    }\n",
              "\n",
              "    .dataframe thead th {\n",
              "        text-align: right;\n",
              "    }\n",
              "</style>\n",
              "<table border=\"1\" class=\"dataframe\">\n",
              "  <thead>\n",
              "    <tr style=\"text-align: right;\">\n",
              "      <th></th>\n",
              "      <th>movie_id</th>\n",
              "      <th>title</th>\n",
              "      <th>genre</th>\n",
              "    </tr>\n",
              "  </thead>\n",
              "  <tbody>\n",
              "    <tr>\n",
              "      <th>0</th>\n",
              "      <td>1</td>\n",
              "      <td>Toy Story (1995)</td>\n",
              "      <td>Animation|Children's|Comedy</td>\n",
              "    </tr>\n",
              "    <tr>\n",
              "      <th>1</th>\n",
              "      <td>2</td>\n",
              "      <td>Jumanji (1995)</td>\n",
              "      <td>Adventure|Children's|Fantasy</td>\n",
              "    </tr>\n",
              "    <tr>\n",
              "      <th>2</th>\n",
              "      <td>3</td>\n",
              "      <td>Grumpier Old Men (1995)</td>\n",
              "      <td>Comedy|Romance</td>\n",
              "    </tr>\n",
              "    <tr>\n",
              "      <th>3</th>\n",
              "      <td>4</td>\n",
              "      <td>Waiting to Exhale (1995)</td>\n",
              "      <td>Comedy|Drama</td>\n",
              "    </tr>\n",
              "    <tr>\n",
              "      <th>4</th>\n",
              "      <td>5</td>\n",
              "      <td>Father of the Bride Part II (1995)</td>\n",
              "      <td>Comedy</td>\n",
              "    </tr>\n",
              "  </tbody>\n",
              "</table>\n",
              "</div>"
            ],
            "text/plain": [
              "   movie_id                               title                         genre\n",
              "0         1                    Toy Story (1995)   Animation|Children's|Comedy\n",
              "1         2                      Jumanji (1995)  Adventure|Children's|Fantasy\n",
              "2         3             Grumpier Old Men (1995)                Comedy|Romance\n",
              "3         4            Waiting to Exhale (1995)                  Comedy|Drama\n",
              "4         5  Father of the Bride Part II (1995)                        Comedy"
            ]
          },
          "metadata": {
            "tags": []
          },
          "execution_count": 4
        }
      ]
    },
    {
      "cell_type": "code",
      "metadata": {
        "colab": {
          "base_uri": "https://localhost:8080/"
        },
        "id": "mvvbjvV8pucp",
        "outputId": "15d25cfa-a501-457c-ca6d-c14a19d6c49e"
      },
      "source": [
        "movies_df.shape"
      ],
      "execution_count": null,
      "outputs": [
        {
          "output_type": "execute_result",
          "data": {
            "text/plain": [
              "(3883, 3)"
            ]
          },
          "metadata": {
            "tags": []
          },
          "execution_count": 5
        }
      ]
    },
    {
      "cell_type": "code",
      "metadata": {
        "colab": {
          "base_uri": "https://localhost:8080/"
        },
        "id": "MFKTvWn4p6wG",
        "outputId": "dc8e6256-7d01-482a-8f37-07f6559c932c"
      },
      "source": [
        "!pip install surprise"
      ],
      "execution_count": null,
      "outputs": [
        {
          "output_type": "stream",
          "text": [
            "Collecting surprise\n",
            "  Downloading https://files.pythonhosted.org/packages/61/de/e5cba8682201fcf9c3719a6fdda95693468ed061945493dea2dd37c5618b/surprise-0.1-py2.py3-none-any.whl\n",
            "Collecting scikit-surprise\n",
            "\u001b[?25l  Downloading https://files.pythonhosted.org/packages/97/37/5d334adaf5ddd65da99fc65f6507e0e4599d092ba048f4302fe8775619e8/scikit-surprise-1.1.1.tar.gz (11.8MB)\n",
            "\u001b[K     |████████████████████████████████| 11.8MB 5.5MB/s \n",
            "\u001b[?25hRequirement already satisfied: joblib>=0.11 in /usr/local/lib/python3.6/dist-packages (from scikit-surprise->surprise) (0.17.0)\n",
            "Requirement already satisfied: numpy>=1.11.2 in /usr/local/lib/python3.6/dist-packages (from scikit-surprise->surprise) (1.18.5)\n",
            "Requirement already satisfied: scipy>=1.0.0 in /usr/local/lib/python3.6/dist-packages (from scikit-surprise->surprise) (1.4.1)\n",
            "Requirement already satisfied: six>=1.10.0 in /usr/local/lib/python3.6/dist-packages (from scikit-surprise->surprise) (1.15.0)\n",
            "Building wheels for collected packages: scikit-surprise\n",
            "  Building wheel for scikit-surprise (setup.py) ... \u001b[?25l\u001b[?25hdone\n",
            "  Created wheel for scikit-surprise: filename=scikit_surprise-1.1.1-cp36-cp36m-linux_x86_64.whl size=1670908 sha256=9d7955e507f6bc07f964ff2b3c2a7090f741bf2f71d1003acf55f1b0c655f62d\n",
            "  Stored in directory: /root/.cache/pip/wheels/78/9c/3d/41b419c9d2aff5b6e2b4c0fc8d25c538202834058f9ed110d0\n",
            "Successfully built scikit-surprise\n",
            "Installing collected packages: scikit-surprise, surprise\n",
            "Successfully installed scikit-surprise-1.1.1 surprise-0.1\n"
          ],
          "name": "stdout"
        }
      ]
    },
    {
      "cell_type": "code",
      "metadata": {
        "id": "P2IF5dJnp9jv"
      },
      "source": [
        "from surprise.reader import Reader\n",
        "from surprise import Dataset\n",
        "from surprise.model_selection import GridSearchCV\n",
        "from surprise.model_selection import cross_validate\n",
        "from surprise import NMF\n",
        "reader=Reader(rating_scale=(0,5))\n",
        "data=Dataset.load_from_df(ratings_df[[\"user_id\",\"movie_id\",\"rating\"]],reader=reader)\n",
        "trainset=data.build_full_trainset()"
      ],
      "execution_count": null,
      "outputs": []
    },
    {
      "cell_type": "code",
      "metadata": {
        "id": "D4QErrJoqJUy"
      },
      "source": [
        "def factors(alg,data):\n",
        "  rmse=[]\n",
        "  for i in range(0,51):\n",
        "    algo=alg(n_factors=i)\n",
        "    err=cross_validate(algo,data,measures=['RMSE'],cv=5,verbose=False)[\"test_rmse\"].mean()\n",
        "    rmse.append(err)\n",
        "  return rmse"
      ],
      "execution_count": null,
      "outputs": []
    },
    {
      "cell_type": "code",
      "metadata": {
        "id": "S3wH_jo2qVlw"
      },
      "source": [
        "rmse_nmf=factors(NMF,data)"
      ],
      "execution_count": null,
      "outputs": []
    },
    {
      "cell_type": "code",
      "metadata": {
        "id": "6b36EgyqqX8H"
      },
      "source": [
        "def plot_rmse(rmse,alg):\n",
        "  plt.figure(num=None,figsize=(10,5),facecolor='w',edgecolor='k')\n",
        "  plt.title(\"{0} Performance: Factors vs RMSE\".format(alg),size=20)\n",
        "  plt.plot(rmse)\n",
        "  plt.xlim(0,50)\n",
        "  plt.xticks(np.arange(0,52,step=2))\n",
        "  plt.xlabel(\"{0}(n_factor = k)\".format(alg))\n",
        "  plt.ylabel(\"Mean RMSE (cv=5)\")\n",
        "  plt.axvline(np.argmin(rmse),color =\"r\")"
      ],
      "execution_count": null,
      "outputs": []
    },
    {
      "cell_type": "code",
      "metadata": {
        "id": "Z9CNFq_9rB8E",
        "colab": {
          "base_uri": "https://localhost:8080/",
          "height": 356
        },
        "outputId": "96219398-f2c7-439c-aa20-05231d416cba"
      },
      "source": [
        "import matplotlib.pyplot as plt\n",
        "plot_rmse(rmse_nmf,\"NMF\")"
      ],
      "execution_count": null,
      "outputs": [
        {
          "output_type": "display_data",
          "data": {
            "image/png": "[encoded data removed]",
            "text/plain": [
              "<Figure size 720x360 with 1 Axes>"
            ]
          },
          "metadata": {
            "tags": []
          }
        }
      ]
    },
    {
      "cell_type": "code",
      "metadata": {
        "id": "uR1P-hRGwYQG",
        "colab": {
          "base_uri": "https://localhost:8080/"
        },
        "outputId": "4cecdf16-f415-4eed-f9f4-4fb847f92fe9"
      },
      "source": [
        "param_grid={'n_factors':[10,12,14,16,18]}\n",
        "gs=GridSearchCV(NMF, param_grid, measures=['rmse'], cv=5)\n",
        "gs.fit(data)\n",
        "print(gs.best_score['rmse'])\n",
        "print(gs.best_params['rmse'])"
      ],
      "execution_count": null,
      "outputs": [
        {
          "output_type": "stream",
          "text": [
            "0.9168188091987659\n",
            "{'n_factors': 14}\n"
          ],
          "name": "stdout"
        }
      ]
    },
    {
      "cell_type": "code",
      "metadata": {
        "id": "atfr0lXIPXVS",
        "colab": {
          "base_uri": "https://localhost:8080/"
        },
        "outputId": "4751ecf2-e364-42f2-a3ce-0777f7c2f2f5"
      },
      "source": [
        "nmfmodel=NMF(n_factors=14)\n",
        "nmfmodel.fit(trainset)\n",
        "testset=trainset.build_anti_testset()\n",
        "predictions=nmfmodel.test(testset)\n",
        "predictions[0:5]"
      ],
      "execution_count": null,
      "outputs": [
        {
          "output_type": "execute_result",
          "data": {
            "text/plain": [
              "[Prediction(uid=1, iid=1357, r_ui=3.581564453029317, est=4.3359210152818894, details={'was_impossible': False}),\n",
              " Prediction(uid=1, iid=3068, r_ui=3.581564453029317, est=4.136711196250731, details={'was_impossible': False}),\n",
              " Prediction(uid=1, iid=1537, r_ui=3.581564453029317, est=4.234129565790436, details={'was_impossible': False}),\n",
              " Prediction(uid=1, iid=647, r_ui=3.581564453029317, est=3.5765454480385817, details={'was_impossible': False}),\n",
              " Prediction(uid=1, iid=2194, r_ui=3.581564453029317, est=4.228722294468294, details={'was_impossible': False})]"
            ]
          },
          "metadata": {
            "tags": []
          },
          "execution_count": 19
        }
      ]
    },
    {
      "cell_type": "code",
      "metadata": {
        "id": "nEuFUGTCPXxK"
      },
      "source": [
        "from collections import defaultdict\n",
        "def top_n_movies(predictions,user_id,movies,ratings,n=3):\n",
        "    top_n=defaultdict(list)\n",
        "    for uid,iid,true_r,est,_ in predictions:\n",
        "        top_n[uid].append((iid,est))\n",
        "\n",
        "    for uid,user_ratings in top_n.items():\n",
        "        user_ratings.sort(key=lambda x: x[1],reverse=True)\n",
        "        top_n[uid]=user_ratings[:n]\n",
        "\n",
        "    user_data=ratings[ratings.user_id==(user_id)]\n",
        "    print('User {0} has rated {1} movies'.format(user_id,user_data.shape[0]))\n",
        "    preds=pd.DataFrame([(id, pair[0],pair[1]) for id,row in top_n.items() for pair in row],columns=[\"user_id\" ,\"movie_id\",\"predicted_rating\"])\n",
        "    user_predictions=preds[preds[\"user_id\"]==(user_id)].merge(movies,how='left',left_on='movie_id',right_on='movie_id')\n",
        "\n",
        "    user_history=ratings[ratings.user_id==(user_id) ].sort_values(\"rating\",ascending=False).merge(movies,how ='left',left_on ='movie_id',right_on ='movie_id')\n",
        "    return user_history,user_predictions"
      ],
      "execution_count": null,
      "outputs": []
    },
    {
      "cell_type": "code",
      "metadata": {
        "id": "B0mjKGe4PcE2",
        "colab": {
          "base_uri": "https://localhost:8080/"
        },
        "outputId": "8369461f-da0b-4370-a511-9f9003d65c54"
      },
      "source": [
        "uid=int(input())\n",
        "n=int(input())\n",
        "user_history,user_predictions=top_n_movies(predictions,uid,movies_df,ratings_df,n)"
      ],
      "execution_count": null,
      "outputs": [
        {
          "output_type": "stream",
          "text": [
            "25\n",
            "5\n",
            "User 25 has rated 85 movies\n"
          ],
          "name": "stdout"
        }
      ]
    },
    {
      "cell_type": "code",
      "metadata": {
        "id": "uDp-W0QgPeKT",
        "colab": {
          "base_uri": "https://localhost:8080/",
          "height": 204
        },
        "outputId": "2e0ee0df-bc92-486a-c047-9bd36e11c709"
      },
      "source": [
        "user_history.head()"
      ],
      "execution_count": null,
      "outputs": [
        {
          "output_type": "execute_result",
          "data": {
            "text/html": [
              "<div>\n",
              "<style scoped>\n",
              "    .dataframe tbody tr th:only-of-type {\n",
              "        vertical-align: middle;\n",
              "    }\n",
              "\n",
              "    .dataframe tbody tr th {\n",
              "        vertical-align: top;\n",
              "    }\n",
              "\n",
              "    .dataframe thead th {\n",
              "        text-align: right;\n",
              "    }\n",
              "</style>\n",
              "<table border=\"1\" class=\"dataframe\">\n",
              "  <thead>\n",
              "    <tr style=\"text-align: right;\">\n",
              "      <th></th>\n",
              "      <th>user_id</th>\n",
              "      <th>movie_id</th>\n",
              "      <th>rating</th>\n",
              "      <th>unix_timestamp</th>\n",
              "      <th>title</th>\n",
              "      <th>genre</th>\n",
              "    </tr>\n",
              "  </thead>\n",
              "  <tbody>\n",
              "    <tr>\n",
              "      <th>0</th>\n",
              "      <td>25</td>\n",
              "      <td>1270</td>\n",
              "      <td>5</td>\n",
              "      <td>978132138</td>\n",
              "      <td>Back to the Future (1985)</td>\n",
              "      <td>Comedy|Sci-Fi</td>\n",
              "    </tr>\n",
              "    <tr>\n",
              "      <th>1</th>\n",
              "      <td>25</td>\n",
              "      <td>2011</td>\n",
              "      <td>5</td>\n",
              "      <td>978132424</td>\n",
              "      <td>Back to the Future Part II (1989)</td>\n",
              "      <td>Comedy|Sci-Fi</td>\n",
              "    </tr>\n",
              "    <tr>\n",
              "      <th>2</th>\n",
              "      <td>25</td>\n",
              "      <td>1291</td>\n",
              "      <td>5</td>\n",
              "      <td>978132431</td>\n",
              "      <td>Indiana Jones and the Last Crusade (1989)</td>\n",
              "      <td>Action|Adventure</td>\n",
              "    </tr>\n",
              "    <tr>\n",
              "      <th>3</th>\n",
              "      <td>25</td>\n",
              "      <td>1610</td>\n",
              "      <td>5</td>\n",
              "      <td>978132793</td>\n",
              "      <td>Hunt for Red October, The (1990)</td>\n",
              "      <td>Action|Thriller</td>\n",
              "    </tr>\n",
              "    <tr>\n",
              "      <th>4</th>\n",
              "      <td>25</td>\n",
              "      <td>2501</td>\n",
              "      <td>5</td>\n",
              "      <td>978132742</td>\n",
              "      <td>October Sky (1999)</td>\n",
              "      <td>Drama</td>\n",
              "    </tr>\n",
              "  </tbody>\n",
              "</table>\n",
              "</div>"
            ],
            "text/plain": [
              "   user_id  ...             genre\n",
              "0       25  ...     Comedy|Sci-Fi\n",
              "1       25  ...     Comedy|Sci-Fi\n",
              "2       25  ...  Action|Adventure\n",
              "3       25  ...   Action|Thriller\n",
              "4       25  ...             Drama\n",
              "\n",
              "[5 rows x 6 columns]"
            ]
          },
          "metadata": {
            "tags": []
          },
          "execution_count": 22
        }
      ]
    },
    {
      "cell_type": "code",
      "metadata": {
        "id": "ZFHdIAn7PfxS",
        "colab": {
          "base_uri": "https://localhost:8080/",
          "height": 204
        },
        "outputId": "1f227e5f-ff5a-4156-ec0c-3033e6f48b37"
      },
      "source": [
        "user_predictions"
      ],
      "execution_count": null,
      "outputs": [
        {
          "output_type": "execute_result",
          "data": {
            "text/html": [
              "<div>\n",
              "<style scoped>\n",
              "    .dataframe tbody tr th:only-of-type {\n",
              "        vertical-align: middle;\n",
              "    }\n",
              "\n",
              "    .dataframe tbody tr th {\n",
              "        vertical-align: top;\n",
              "    }\n",
              "\n",
              "    .dataframe thead th {\n",
              "        text-align: right;\n",
              "    }\n",
              "</style>\n",
              "<table border=\"1\" class=\"dataframe\">\n",
              "  <thead>\n",
              "    <tr style=\"text-align: right;\">\n",
              "      <th></th>\n",
              "      <th>user_id</th>\n",
              "      <th>movie_id</th>\n",
              "      <th>predicted_rating</th>\n",
              "      <th>title</th>\n",
              "      <th>genre</th>\n",
              "    </tr>\n",
              "  </thead>\n",
              "  <tbody>\n",
              "    <tr>\n",
              "      <th>0</th>\n",
              "      <td>25</td>\n",
              "      <td>3245</td>\n",
              "      <td>5.0</td>\n",
              "      <td>I Am Cuba (Soy Cuba/Ya Kuba) (1964)</td>\n",
              "      <td>Drama</td>\n",
              "    </tr>\n",
              "    <tr>\n",
              "      <th>1</th>\n",
              "      <td>25</td>\n",
              "      <td>53</td>\n",
              "      <td>5.0</td>\n",
              "      <td>Lamerica (1994)</td>\n",
              "      <td>Drama</td>\n",
              "    </tr>\n",
              "    <tr>\n",
              "      <th>2</th>\n",
              "      <td>25</td>\n",
              "      <td>557</td>\n",
              "      <td>5.0</td>\n",
              "      <td>Mamma Roma (1962)</td>\n",
              "      <td>Drama</td>\n",
              "    </tr>\n",
              "    <tr>\n",
              "      <th>3</th>\n",
              "      <td>25</td>\n",
              "      <td>989</td>\n",
              "      <td>5.0</td>\n",
              "      <td>Schlafes Bruder (Brother of Sleep) (1995)</td>\n",
              "      <td>Drama</td>\n",
              "    </tr>\n",
              "    <tr>\n",
              "      <th>4</th>\n",
              "      <td>25</td>\n",
              "      <td>572</td>\n",
              "      <td>5.0</td>\n",
              "      <td>Foreign Student (1994)</td>\n",
              "      <td>Drama</td>\n",
              "    </tr>\n",
              "  </tbody>\n",
              "</table>\n",
              "</div>"
            ],
            "text/plain": [
              "   user_id  movie_id  ...                                      title  genre\n",
              "0       25      3245  ...        I Am Cuba (Soy Cuba/Ya Kuba) (1964)  Drama\n",
              "1       25        53  ...                            Lamerica (1994)  Drama\n",
              "2       25       557  ...                          Mamma Roma (1962)  Drama\n",
              "3       25       989  ...  Schlafes Bruder (Brother of Sleep) (1995)  Drama\n",
              "4       25       572  ...                     Foreign Student (1994)  Drama\n",
              "\n",
              "[5 rows x 5 columns]"
            ]
          },
          "metadata": {
            "tags": []
          },
          "execution_count": 23
        }
      ]
    },
    {
      "cell_type": "code",
      "metadata": {
        "id": "uezxvvojRqeB"
      },
      "source": [],
      "execution_count": null,
      "outputs": []
    }
  ]
}